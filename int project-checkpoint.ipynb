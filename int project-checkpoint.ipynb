{
 "cells": [
  {
   "cell_type": "code",
   "execution_count": 1,
   "metadata": {},
   "outputs": [],
   "source": [
    "import numpy as np"
   ]
  },
  {
   "cell_type": "code",
   "execution_count": 11,
   "metadata": {},
   "outputs": [],
   "source": [
    "import pandas as pd"
   ]
  },
  {
   "cell_type": "code",
   "execution_count": 12,
   "metadata": {},
   "outputs": [],
   "source": [
    "df=pd.read_csv('E:\\Downloads\\lenses.csv', index_col = False, names = ['Patient_age','Spectacle_prescription','Asigmatic','Tear_production_rate','Class'])"
   ]
  },
  {
   "cell_type": "code",
   "execution_count": 13,
   "metadata": {},
   "outputs": [
    {
     "data": {
      "text/html": [
       "<div>\n",
       "<style scoped>\n",
       "    .dataframe tbody tr th:only-of-type {\n",
       "        vertical-align: middle;\n",
       "    }\n",
       "\n",
       "    .dataframe tbody tr th {\n",
       "        vertical-align: top;\n",
       "    }\n",
       "\n",
       "    .dataframe thead th {\n",
       "        text-align: right;\n",
       "    }\n",
       "</style>\n",
       "<table border=\"1\" class=\"dataframe\">\n",
       "  <thead>\n",
       "    <tr style=\"text-align: right;\">\n",
       "      <th></th>\n",
       "      <th>Patient_age</th>\n",
       "      <th>Spectacle_prescription</th>\n",
       "      <th>Asigmatic</th>\n",
       "      <th>Tear_production_rate</th>\n",
       "      <th>Class</th>\n",
       "    </tr>\n",
       "  </thead>\n",
       "  <tbody>\n",
       "    <tr>\n",
       "      <th>0</th>\n",
       "      <td>1</td>\n",
       "      <td>1</td>\n",
       "      <td>1</td>\n",
       "      <td>1</td>\n",
       "      <td>3</td>\n",
       "    </tr>\n",
       "    <tr>\n",
       "      <th>1</th>\n",
       "      <td>1</td>\n",
       "      <td>1</td>\n",
       "      <td>1</td>\n",
       "      <td>2</td>\n",
       "      <td>2</td>\n",
       "    </tr>\n",
       "    <tr>\n",
       "      <th>2</th>\n",
       "      <td>1</td>\n",
       "      <td>1</td>\n",
       "      <td>2</td>\n",
       "      <td>1</td>\n",
       "      <td>3</td>\n",
       "    </tr>\n",
       "    <tr>\n",
       "      <th>3</th>\n",
       "      <td>1</td>\n",
       "      <td>1</td>\n",
       "      <td>2</td>\n",
       "      <td>2</td>\n",
       "      <td>1</td>\n",
       "    </tr>\n",
       "    <tr>\n",
       "      <th>4</th>\n",
       "      <td>1</td>\n",
       "      <td>2</td>\n",
       "      <td>1</td>\n",
       "      <td>1</td>\n",
       "      <td>3</td>\n",
       "    </tr>\n",
       "    <tr>\n",
       "      <th>5</th>\n",
       "      <td>1</td>\n",
       "      <td>2</td>\n",
       "      <td>1</td>\n",
       "      <td>2</td>\n",
       "      <td>2</td>\n",
       "    </tr>\n",
       "    <tr>\n",
       "      <th>6</th>\n",
       "      <td>1</td>\n",
       "      <td>2</td>\n",
       "      <td>2</td>\n",
       "      <td>1</td>\n",
       "      <td>3</td>\n",
       "    </tr>\n",
       "    <tr>\n",
       "      <th>7</th>\n",
       "      <td>1</td>\n",
       "      <td>2</td>\n",
       "      <td>2</td>\n",
       "      <td>2</td>\n",
       "      <td>1</td>\n",
       "    </tr>\n",
       "    <tr>\n",
       "      <th>8</th>\n",
       "      <td>2</td>\n",
       "      <td>1</td>\n",
       "      <td>1</td>\n",
       "      <td>1</td>\n",
       "      <td>3</td>\n",
       "    </tr>\n",
       "    <tr>\n",
       "      <th>9</th>\n",
       "      <td>2</td>\n",
       "      <td>1</td>\n",
       "      <td>1</td>\n",
       "      <td>2</td>\n",
       "      <td>2</td>\n",
       "    </tr>\n",
       "    <tr>\n",
       "      <th>10</th>\n",
       "      <td>2</td>\n",
       "      <td>1</td>\n",
       "      <td>2</td>\n",
       "      <td>1</td>\n",
       "      <td>3</td>\n",
       "    </tr>\n",
       "    <tr>\n",
       "      <th>11</th>\n",
       "      <td>2</td>\n",
       "      <td>1</td>\n",
       "      <td>2</td>\n",
       "      <td>2</td>\n",
       "      <td>1</td>\n",
       "    </tr>\n",
       "    <tr>\n",
       "      <th>12</th>\n",
       "      <td>2</td>\n",
       "      <td>2</td>\n",
       "      <td>1</td>\n",
       "      <td>1</td>\n",
       "      <td>3</td>\n",
       "    </tr>\n",
       "    <tr>\n",
       "      <th>13</th>\n",
       "      <td>2</td>\n",
       "      <td>2</td>\n",
       "      <td>1</td>\n",
       "      <td>2</td>\n",
       "      <td>2</td>\n",
       "    </tr>\n",
       "    <tr>\n",
       "      <th>14</th>\n",
       "      <td>2</td>\n",
       "      <td>2</td>\n",
       "      <td>2</td>\n",
       "      <td>1</td>\n",
       "      <td>3</td>\n",
       "    </tr>\n",
       "    <tr>\n",
       "      <th>15</th>\n",
       "      <td>2</td>\n",
       "      <td>2</td>\n",
       "      <td>2</td>\n",
       "      <td>2</td>\n",
       "      <td>3</td>\n",
       "    </tr>\n",
       "    <tr>\n",
       "      <th>16</th>\n",
       "      <td>3</td>\n",
       "      <td>1</td>\n",
       "      <td>1</td>\n",
       "      <td>1</td>\n",
       "      <td>3</td>\n",
       "    </tr>\n",
       "    <tr>\n",
       "      <th>17</th>\n",
       "      <td>3</td>\n",
       "      <td>1</td>\n",
       "      <td>1</td>\n",
       "      <td>2</td>\n",
       "      <td>3</td>\n",
       "    </tr>\n",
       "    <tr>\n",
       "      <th>18</th>\n",
       "      <td>3</td>\n",
       "      <td>1</td>\n",
       "      <td>2</td>\n",
       "      <td>1</td>\n",
       "      <td>3</td>\n",
       "    </tr>\n",
       "    <tr>\n",
       "      <th>19</th>\n",
       "      <td>3</td>\n",
       "      <td>1</td>\n",
       "      <td>2</td>\n",
       "      <td>2</td>\n",
       "      <td>1</td>\n",
       "    </tr>\n",
       "    <tr>\n",
       "      <th>20</th>\n",
       "      <td>3</td>\n",
       "      <td>2</td>\n",
       "      <td>1</td>\n",
       "      <td>1</td>\n",
       "      <td>3</td>\n",
       "    </tr>\n",
       "    <tr>\n",
       "      <th>21</th>\n",
       "      <td>3</td>\n",
       "      <td>2</td>\n",
       "      <td>1</td>\n",
       "      <td>2</td>\n",
       "      <td>2</td>\n",
       "    </tr>\n",
       "    <tr>\n",
       "      <th>22</th>\n",
       "      <td>3</td>\n",
       "      <td>2</td>\n",
       "      <td>2</td>\n",
       "      <td>1</td>\n",
       "      <td>3</td>\n",
       "    </tr>\n",
       "    <tr>\n",
       "      <th>23</th>\n",
       "      <td>3</td>\n",
       "      <td>2</td>\n",
       "      <td>2</td>\n",
       "      <td>2</td>\n",
       "      <td>3</td>\n",
       "    </tr>\n",
       "  </tbody>\n",
       "</table>\n",
       "</div>"
      ],
      "text/plain": [
       "    Patient_age  Spectacle_prescription  Asigmatic  Tear_production_rate  \\\n",
       "0             1                       1          1                     1   \n",
       "1             1                       1          1                     2   \n",
       "2             1                       1          2                     1   \n",
       "3             1                       1          2                     2   \n",
       "4             1                       2          1                     1   \n",
       "5             1                       2          1                     2   \n",
       "6             1                       2          2                     1   \n",
       "7             1                       2          2                     2   \n",
       "8             2                       1          1                     1   \n",
       "9             2                       1          1                     2   \n",
       "10            2                       1          2                     1   \n",
       "11            2                       1          2                     2   \n",
       "12            2                       2          1                     1   \n",
       "13            2                       2          1                     2   \n",
       "14            2                       2          2                     1   \n",
       "15            2                       2          2                     2   \n",
       "16            3                       1          1                     1   \n",
       "17            3                       1          1                     2   \n",
       "18            3                       1          2                     1   \n",
       "19            3                       1          2                     2   \n",
       "20            3                       2          1                     1   \n",
       "21            3                       2          1                     2   \n",
       "22            3                       2          2                     1   \n",
       "23            3                       2          2                     2   \n",
       "\n",
       "    Class  \n",
       "0       3  \n",
       "1       2  \n",
       "2       3  \n",
       "3       1  \n",
       "4       3  \n",
       "5       2  \n",
       "6       3  \n",
       "7       1  \n",
       "8       3  \n",
       "9       2  \n",
       "10      3  \n",
       "11      1  \n",
       "12      3  \n",
       "13      2  \n",
       "14      3  \n",
       "15      3  \n",
       "16      3  \n",
       "17      3  \n",
       "18      3  \n",
       "19      1  \n",
       "20      3  \n",
       "21      2  \n",
       "22      3  \n",
       "23      3  "
      ]
     },
     "execution_count": 13,
     "metadata": {},
     "output_type": "execute_result"
    }
   ],
   "source": [
    "df"
   ]
  },
  {
   "cell_type": "code",
   "execution_count": 14,
   "metadata": {},
   "outputs": [],
   "source": [
    "df['Class'].unique()\n",
    "dataset = df.values\n",
    "x= dataset[:, 0:3]\n",
    "y = dataset[:,4]\n"
   ]
  },
  {
   "cell_type": "markdown",
   "metadata": {},
   "source": [
    "# Perceptron on lenses dataset"
   ]
  },
  {
   "cell_type": "code",
   "execution_count": 18,
   "metadata": {},
   "outputs": [
    {
     "name": "stdout",
     "output_type": "stream",
     "text": [
      "Execution Start:\n",
      "Trainig dataset:\n",
      "-----------------------------------------------------------------------------------------------------------------------------------------------------------------------------------\n",
      "Winsorized trainig dataset:\n",
      "[[1. 1. 1. 1. 3.]\n",
      " [1. 1. 1. 2. 2.]\n",
      " [1. 1. 2. 1. 3.]\n",
      " [1. 1. 2. 2. 1.]\n",
      " [1. 2. 1. 1. 3.]\n",
      " [1. 2. 1. 2. 2.]\n",
      " [1. 2. 2. 1. 3.]\n",
      " [1. 2. 2. 2. 1.]\n",
      " [2. 1. 1. 1. 3.]\n",
      " [2. 1. 1. 2. 2.]\n",
      " [2. 1. 2. 1. 3.]\n",
      " [2. 1. 2. 2. 1.]\n",
      " [2. 2. 1. 1. 3.]\n",
      " [2. 2. 1. 2. 2.]\n",
      " [2. 2. 2. 1. 3.]\n",
      " [2. 2. 2. 2. 3.]\n",
      " [3. 1. 1. 1. 3.]\n",
      " [3. 1. 1. 2. 3.]\n",
      " [3. 1. 2. 1. 3.]\n",
      " [3. 1. 2. 2. 1.]\n",
      " [3. 2. 1. 1. 3.]\n",
      " [3. 2. 1. 2. 2.]\n",
      " [3. 2. 2. 1. 3.]\n",
      " [3. 2. 2. 2. 3.]]\n",
      "-----------------------------------------------------------------------------------------------------------------------------------------------------------------------------------\n",
      "Train perceptron with original dataset:\n",
      "Iteration no=7, learning rate=0.050, errors in iteration=65\n",
      "Iteration no=7, learning rate=0.050, errors in iteration=65\n",
      "Iteration no=7, learning rate=0.050, errors in iteration=65\n",
      "Iteration no=7, learning rate=0.050, errors in iteration=65\n",
      "Iteration no=7, learning rate=0.050, errors in iteration=65\n",
      "Iteration no=7, learning rate=0.050, errors in iteration=65\n",
      "Iteration no=7, learning rate=0.050, errors in iteration=65\n",
      "final weight for perceptron:\n",
      "[12.249999999999982, 25.55000000000002, 18.899999999999984, 17.849999999999987, 16.099999999999962]\n",
      "-----------------------------------------------------------------------------------------------------------------------------------------------------------------------------------\n",
      "Test perceptron with test dataset\n",
      "Class = 3, Prediction = 1 \n",
      "Class = 2, Prediction = 1 \n",
      "Class = 3, Prediction = 1 \n",
      "Class = 1, Prediction = 1 \n",
      "Class = 3, Prediction = 1 \n",
      "Class = 2, Prediction = 1 \n",
      "Class = 3, Prediction = 1 \n",
      "Class = 1, Prediction = 1 \n",
      "Class = 3, Prediction = 1 \n",
      "Class = 2, Prediction = 1 \n",
      "Class = 3, Prediction = 1 \n",
      "Class = 1, Prediction = 1 \n",
      "Class = 3, Prediction = 1 \n",
      "Class = 2, Prediction = 1 \n",
      "Class = 3, Prediction = 1 \n",
      "Class = 3, Prediction = 1 \n",
      "Class = 3, Prediction = 1 \n",
      "Class = 3, Prediction = 1 \n",
      "Class = 3, Prediction = 1 \n",
      "Class = 1, Prediction = 1 \n",
      "Class = 3, Prediction = 1 \n",
      "Class = 2, Prediction = 1 \n",
      "Class = 3, Prediction = 1 \n",
      "Class = 3, Prediction = 1 \n",
      "-----------------------------------------------------------------------------------------------------------------------------------------------------------------------------------\n",
      "No of wrong prediction : =65 \n",
      "-----------------------------------------------------------------------------------------------------------------------------------------------------------------------------------\n",
      "Train perceptron with winsorized dataset:\n",
      "Iteration no=7, learning rate=0.050, errors in iteration=65\n",
      "Iteration no=7, learning rate=0.050, errors in iteration=65\n",
      "Iteration no=7, learning rate=0.050, errors in iteration=65\n",
      "Iteration no=7, learning rate=0.050, errors in iteration=65\n",
      "Iteration no=7, learning rate=0.050, errors in iteration=65\n",
      "Iteration no=7, learning rate=0.050, errors in iteration=65\n",
      "Iteration no=7, learning rate=0.050, errors in iteration=65\n",
      "final weight for perceptron:\n",
      "[12.249999999999982, 25.55000000000002, 18.899999999999984, 17.849999999999987, 16.099999999999962]\n",
      "-----------------------------------------------------------------------------------------------------------------------------------------------------------------------------------\n",
      "Test perceptron with test dataset\n",
      "Class = 3, Prediction = 1 \n",
      "Class = 2, Prediction = 1 \n",
      "Class = 3, Prediction = 1 \n",
      "Class = 1, Prediction = 1 \n",
      "Class = 3, Prediction = 1 \n",
      "Class = 2, Prediction = 1 \n",
      "Class = 3, Prediction = 1 \n",
      "Class = 1, Prediction = 1 \n",
      "Class = 3, Prediction = 1 \n",
      "Class = 2, Prediction = 1 \n",
      "Class = 3, Prediction = 1 \n",
      "Class = 1, Prediction = 1 \n",
      "Class = 3, Prediction = 1 \n",
      "Class = 2, Prediction = 1 \n",
      "Class = 3, Prediction = 1 \n",
      "Class = 3, Prediction = 1 \n",
      "Class = 3, Prediction = 1 \n",
      "Class = 3, Prediction = 1 \n",
      "Class = 3, Prediction = 1 \n",
      "Class = 1, Prediction = 1 \n",
      "Class = 3, Prediction = 1 \n",
      "Class = 2, Prediction = 1 \n",
      "Class = 3, Prediction = 1 \n",
      "Class = 3, Prediction = 1 \n",
      "-----------------------------------------------------------------------------------------------------------------------------------------------------------------------------------\n",
      "No of wrong prediction : =65 \n",
      "-----------------------------------------------------------------------------------------------------------------------------------------------------------------------------------\n",
      "Execution ends:\n"
     ]
    }
   ],
   "source": [
    "\n",
    "import scipy.stats\n",
    "import numpy as npy\n",
    "\n",
    "# 'dataset' is used to train perceptron\n",
    "print(\"Execution Start:\")\n",
    "print(\"Trainig dataset:\")\n",
    "#print(E:\\Downloads\\lenses.csv)\n",
    "print('-----------------------------------------------------------------------------------------------------------------------------------------------------------------------------------')\n",
    "\n",
    "\n",
    "# 'winzdataset' is updated in future after winsorizing values of 'dataset'\n",
    "winzdataset = npy.genfromtxt('E:\\Downloads\\lenses.csv', delimiter=',')\n",
    "\n",
    "# 'testdataset' contains data for testingn of perceptron once they are trained\n",
    "testdataset =  npy.genfromtxt('E:\\Downloads\\lenses.csv', delimiter=',')\n",
    "\n",
    "#column array to store imput values for winsorizing , each array here represents column from 'dataset'\n",
    "clm1 = []\n",
    "clm2 = []\n",
    "clm3 = []\n",
    "clm4 = []\n",
    "\n",
    "#store each column into arrrays\n",
    "for ary in dataset:\n",
    "    clm1.append(ary[0])\n",
    "    clm2.append(ary[1])\n",
    "    clm3.append(ary[2])\n",
    "    clm4.append(ary[3])\n",
    "\n",
    "#winsorizing each array\n",
    "cl1 = scipy.stats.mstats.winsorize(clm1, limits=0.1)\n",
    "cl2 = scipy.stats.mstats.winsorize(clm2, limits=0.1)\n",
    "cl3 = scipy.stats.mstats.winsorize(clm3, limits=0.1)\n",
    "cl4 = scipy.stats.mstats.winsorize(clm4, limits=0.1)\n",
    "\n",
    "#store winsorized data into winzdataset\n",
    "i = 0\n",
    "for ary in winzdataset:\n",
    "    ary[0]=cl1[i]\n",
    "    ary[1]=cl2[i]\n",
    "    ary[2]=cl3[i]\n",
    "    ary[3]=cl4[i]\n",
    "    i = i +1\n",
    "print(\"Winsorized trainig dataset:\")\n",
    "print(winzdataset)\n",
    "# Make a prediction with weights\n",
    "def predict_class(record, weights):\n",
    "    activation = weights[0]\n",
    "    for i in range(len(record) - 1):\n",
    "        activation += weights[i + 1] * record[i]\n",
    "    return 1.0 if activation >= 0.0 else 0.0\n",
    "\n",
    "\n",
    "# Estimate Perceptron weights using stochastic gradient descent\n",
    "def train_preceptron(records, learning_rate, n_iteraton):\n",
    "    weights = [0.0 for i in range(len(records[0]))]\n",
    "    for iteration in range(n_iteraton):\n",
    "        sum_error = 0.0\n",
    "        for row in records:\n",
    "            prediction = predict_class(row, weights)\n",
    "            error = row[-1] - prediction\n",
    "            sum_error += error ** 2\n",
    "            weights[0] = weights[0] + learning_rate * error\n",
    "            for i in range(len(row) - 1):\n",
    "                weights[i + 1] = weights[i + 1] + l_rate * error * row[i]\n",
    "        print('Iteration no=%d, learning rate=%.3f, errors in iteration=%d' % (n_iteraton, learning_rate, sum_error))\n",
    "    return weights\n",
    "\n",
    "\n",
    "# test trained preceptrop for  test data\n",
    "def test_preceptron(dataset,weights):\n",
    "    sumer = 0.0\n",
    "    for row in dataset:\n",
    "        prediction = predict_class(row, weights)\n",
    "        print('Class = %d, Prediction = %d '%(row[-1],  prediction))\n",
    "        error = row[-1] - prediction\n",
    "        sumer += error ** 2\n",
    "    print(\n",
    "        '-----------------------------------------------------------------------------------------------------------------------------------------------------------------------------------')\n",
    "\n",
    "    print(\"No of wrong prediction : =%d \" %(sumer))\n",
    "\n",
    "\n",
    "l_rate = 0.05\n",
    "n_epoch = 7\n",
    "print('-----------------------------------------------------------------------------------------------------------------------------------------------------------------------------------')\n",
    "print(\"Train perceptron with original dataset:\")\n",
    "weights = train_preceptron(dataset, l_rate, n_epoch)\n",
    "print(\"final weight for perceptron:\")\n",
    "print(weights)\n",
    "print('-----------------------------------------------------------------------------------------------------------------------------------------------------------------------------------')\n",
    "print(\"Test perceptron with test dataset\")\n",
    "toterror = test_preceptron(testdataset,weights)\n",
    "print('-----------------------------------------------------------------------------------------------------------------------------------------------------------------------------------')\n",
    "print(\"Train perceptron with winsorized dataset:\")\n",
    "weights = train_preceptron(winzdataset, l_rate, n_epoch)\n",
    "print(\"final weight for perceptron:\")\n",
    "print(weights)\n",
    "print('-----------------------------------------------------------------------------------------------------------------------------------------------------------------------------------')\n",
    "print(\"Test perceptron with test dataset\")\n",
    "toterror = test_preceptron(testdataset,weights)\n",
    "print('-----------------------------------------------------------------------------------------------------------------------------------------------------------------------------------')\n",
    "print(\"Execution ends:\")"
   ]
  },
  {
   "cell_type": "markdown",
   "metadata": {},
   "source": [
    "# SVM on lenses dataset"
   ]
  },
  {
   "cell_type": "code",
   "execution_count": 31,
   "metadata": {},
   "outputs": [
    {
     "data": {
      "text/html": [
       "<div>\n",
       "<style scoped>\n",
       "    .dataframe tbody tr th:only-of-type {\n",
       "        vertical-align: middle;\n",
       "    }\n",
       "\n",
       "    .dataframe tbody tr th {\n",
       "        vertical-align: top;\n",
       "    }\n",
       "\n",
       "    .dataframe thead th {\n",
       "        text-align: right;\n",
       "    }\n",
       "</style>\n",
       "<table border=\"1\" class=\"dataframe\">\n",
       "  <thead>\n",
       "    <tr style=\"text-align: right;\">\n",
       "      <th></th>\n",
       "      <th>Patient_age</th>\n",
       "      <th>Spectacle_prescription</th>\n",
       "      <th>Asigmatic</th>\n",
       "      <th>Tear_production_rate</th>\n",
       "      <th>Class</th>\n",
       "    </tr>\n",
       "  </thead>\n",
       "  <tbody>\n",
       "    <tr>\n",
       "      <th>0</th>\n",
       "      <td>1</td>\n",
       "      <td>1</td>\n",
       "      <td>1</td>\n",
       "      <td>1</td>\n",
       "      <td>3</td>\n",
       "    </tr>\n",
       "    <tr>\n",
       "      <th>1</th>\n",
       "      <td>1</td>\n",
       "      <td>1</td>\n",
       "      <td>1</td>\n",
       "      <td>2</td>\n",
       "      <td>2</td>\n",
       "    </tr>\n",
       "    <tr>\n",
       "      <th>2</th>\n",
       "      <td>1</td>\n",
       "      <td>1</td>\n",
       "      <td>2</td>\n",
       "      <td>1</td>\n",
       "      <td>3</td>\n",
       "    </tr>\n",
       "    <tr>\n",
       "      <th>3</th>\n",
       "      <td>1</td>\n",
       "      <td>1</td>\n",
       "      <td>2</td>\n",
       "      <td>2</td>\n",
       "      <td>1</td>\n",
       "    </tr>\n",
       "    <tr>\n",
       "      <th>4</th>\n",
       "      <td>1</td>\n",
       "      <td>2</td>\n",
       "      <td>1</td>\n",
       "      <td>1</td>\n",
       "      <td>3</td>\n",
       "    </tr>\n",
       "  </tbody>\n",
       "</table>\n",
       "</div>"
      ],
      "text/plain": [
       "   Patient_age  Spectacle_prescription  Asigmatic  Tear_production_rate  Class\n",
       "0            1                       1          1                     1      3\n",
       "1            1                       1          1                     2      2\n",
       "2            1                       1          2                     1      3\n",
       "3            1                       1          2                     2      1\n",
       "4            1                       2          1                     1      3"
      ]
     },
     "execution_count": 31,
     "metadata": {},
     "output_type": "execute_result"
    }
   ],
   "source": [
    "df=pd.read_csv('E:\\Downloads\\lenses.csv', index_col = False, names = ['Patient_age','Spectacle_prescription','Asigmatic','Tear_production_rate','Class'])\n",
    "df.head()"
   ]
  },
  {
   "cell_type": "code",
   "execution_count": 32,
   "metadata": {},
   "outputs": [],
   "source": [
    "import numpy as np\n",
    "import seaborn as sns\n",
    "import matplotlib.pyplot as plt\n",
    "%matplotlib inline"
   ]
  },
  {
   "cell_type": "code",
   "execution_count": 38,
   "metadata": {},
   "outputs": [
    {
     "data": {
      "text/plain": [
       "<seaborn.axisgrid.PairGrid at 0x1fd07456898>"
      ]
     },
     "execution_count": 38,
     "metadata": {},
     "output_type": "execute_result"
    },
    {
     "data": {
      "image/png": "[encoded data removed]",
      "text/plain": [
       "<Figure size 945.725x900 with 30 Axes>"
      ]
     },
     "metadata": {
      "needs_background": "light"
     },
     "output_type": "display_data"
    }
   ],
   "source": [
    "sns.pairplot(df,hue='Class',palette='Dark2')"
   ]
  },
  {
   "cell_type": "code",
   "execution_count": 44,
   "metadata": {},
   "outputs": [],
   "source": [
    "from sklearn.model_selection import train_test_split"
   ]
  },
  {
   "cell_type": "code",
   "execution_count": 45,
   "metadata": {},
   "outputs": [],
   "source": [
    "X = df.drop('Class',axis=1)\n",
    "y = df['Class']\n",
    "X_train, X_test, y_train, y_test = train_test_split(X, y, test_size=0.2,random_state=101)"
   ]
  },
  {
   "cell_type": "code",
   "execution_count": 46,
   "metadata": {},
   "outputs": [],
   "source": [
    "from sklearn.svm import SVC"
   ]
  },
  {
   "cell_type": "code",
   "execution_count": 48,
   "metadata": {},
   "outputs": [],
   "source": [
    "model = SVC()"
   ]
  },
  {
   "cell_type": "code",
   "execution_count": 49,
   "metadata": {},
   "outputs": [
    {
     "data": {
      "text/plain": [
       "SVC(C=1.0, cache_size=200, class_weight=None, coef0=0.0,\n",
       "    decision_function_shape='ovr', degree=3, gamma='auto_deprecated',\n",
       "    kernel='rbf', max_iter=-1, probability=False, random_state=None,\n",
       "    shrinking=True, tol=0.001, verbose=False)"
      ]
     },
     "execution_count": 49,
     "metadata": {},
     "output_type": "execute_result"
    }
   ],
   "source": [
    "model.fit(X_train,y_train)"
   ]
  },
  {
   "cell_type": "code",
   "execution_count": 50,
   "metadata": {},
   "outputs": [],
   "source": [
    "preds = model.predict(X_test)"
   ]
  },
  {
   "cell_type": "code",
   "execution_count": 51,
   "metadata": {},
   "outputs": [],
   "source": [
    "from sklearn.metrics import classification_report, confusion_matrix, matthews_corrcoef"
   ]
  },
  {
   "cell_type": "code",
   "execution_count": 52,
   "metadata": {},
   "outputs": [
    {
     "name": "stdout",
     "output_type": "stream",
     "text": [
      "[[0 0 2]\n",
      " [0 0 1]\n",
      " [0 0 2]]\n"
     ]
    }
   ],
   "source": [
    "print(confusion_matrix(y_test,preds))"
   ]
  },
  {
   "cell_type": "code",
   "execution_count": 53,
   "metadata": {},
   "outputs": [
    {
     "name": "stdout",
     "output_type": "stream",
     "text": [
      "              precision    recall  f1-score   support\n",
      "\n",
      "           1       0.00      0.00      0.00         2\n",
      "           2       0.00      0.00      0.00         1\n",
      "           3       0.40      1.00      0.57         2\n",
      "\n",
      "    accuracy                           0.40         5\n",
      "   macro avg       0.13      0.33      0.19         5\n",
      "weighted avg       0.16      0.40      0.23         5\n",
      "\n"
     ]
    }
   ],
   "source": [
    "print(classification_report(y_test,preds))"
   ]
  },
  {
   "cell_type": "code",
   "execution_count": 54,
   "metadata": {},
   "outputs": [
    {
     "data": {
      "text/plain": [
       "0.0"
      ]
     },
     "execution_count": 54,
     "metadata": {},
     "output_type": "execute_result"
    }
   ],
   "source": [
    "matthews_corrcoef(y_test,preds)"
   ]
  },
  {
   "cell_type": "code",
   "execution_count": 55,
   "metadata": {},
   "outputs": [
    {
     "name": "stdout",
     "output_type": "stream",
     "text": [
      "Accuracy of SVC on training set: 100.00\n",
      "Accuracy of SVC on test set: 40.00\n"
     ]
    }
   ],
   "source": [
    "from sklearn.svm import SVC\n",
    "\n",
    "clf_SVC = SVC(C=100.0, kernel='rbf', degree=3, gamma='auto', coef0=0.0, shrinking=True, \n",
    "          probability=False, tol=0.001, cache_size=200, class_weight=None, \n",
    "          verbose=0, max_iter=-1, decision_function_shape=\"ovr\", random_state = 0)\n",
    "clf_SVC.fit(X_train,y_train)\n",
    "\n",
    "print('Accuracy of SVC on training set: {:.2f}'.format(clf_SVC.score(X_train, y_train) * 100))\n",
    "\n",
    "print('Accuracy of SVC on test set: {:.2f}'.format(clf_SVC.score(X_test, y_test) * 100))"
   ]
  },
  {
   "cell_type": "markdown",
   "metadata": {},
   "source": [
    "# SOM on lenses dataset"
   ]
  },
  {
   "cell_type": "code",
   "execution_count": 18,
   "metadata": {},
   "outputs": [],
   "source": [
    "\n",
    "import numpy as np\n",
    "import pandas as pd\n",
    "import matplotlib.pyplot as plt\n",
    "import seaborn as sns\n",
    "\n",
    "#ignore warning messages \n",
    "import warnings\n",
    "warnings.filterwarnings('ignore') \n",
    "\n",
    "# set seaborn\n",
    "sns.set()"
   ]
  },
  {
   "cell_type": "code",
   "execution_count": 19,
   "metadata": {},
   "outputs": [
    {
     "data": {
      "text/html": [
       "<div>\n",
       "<style scoped>\n",
       "    .dataframe tbody tr th:only-of-type {\n",
       "        vertical-align: middle;\n",
       "    }\n",
       "\n",
       "    .dataframe tbody tr th {\n",
       "        vertical-align: top;\n",
       "    }\n",
       "\n",
       "    .dataframe thead th {\n",
       "        text-align: right;\n",
       "    }\n",
       "</style>\n",
       "<table border=\"1\" class=\"dataframe\">\n",
       "  <thead>\n",
       "    <tr style=\"text-align: right;\">\n",
       "      <th></th>\n",
       "      <th>Patient_age</th>\n",
       "      <th>Spectacle_prescription</th>\n",
       "      <th>Asigmatic</th>\n",
       "      <th>Tear_production_rate</th>\n",
       "      <th>Class</th>\n",
       "    </tr>\n",
       "  </thead>\n",
       "  <tbody>\n",
       "    <tr>\n",
       "      <th>0</th>\n",
       "      <td>1</td>\n",
       "      <td>1</td>\n",
       "      <td>1</td>\n",
       "      <td>1</td>\n",
       "      <td>3</td>\n",
       "    </tr>\n",
       "    <tr>\n",
       "      <th>1</th>\n",
       "      <td>1</td>\n",
       "      <td>1</td>\n",
       "      <td>1</td>\n",
       "      <td>2</td>\n",
       "      <td>2</td>\n",
       "    </tr>\n",
       "    <tr>\n",
       "      <th>2</th>\n",
       "      <td>1</td>\n",
       "      <td>1</td>\n",
       "      <td>2</td>\n",
       "      <td>1</td>\n",
       "      <td>3</td>\n",
       "    </tr>\n",
       "    <tr>\n",
       "      <th>3</th>\n",
       "      <td>1</td>\n",
       "      <td>1</td>\n",
       "      <td>2</td>\n",
       "      <td>2</td>\n",
       "      <td>1</td>\n",
       "    </tr>\n",
       "    <tr>\n",
       "      <th>4</th>\n",
       "      <td>1</td>\n",
       "      <td>2</td>\n",
       "      <td>1</td>\n",
       "      <td>1</td>\n",
       "      <td>3</td>\n",
       "    </tr>\n",
       "  </tbody>\n",
       "</table>\n",
       "</div>"
      ],
      "text/plain": [
       "   Patient_age  Spectacle_prescription  Asigmatic  Tear_production_rate  Class\n",
       "0            1                       1          1                     1      3\n",
       "1            1                       1          1                     2      2\n",
       "2            1                       1          2                     1      3\n",
       "3            1                       1          2                     2      1\n",
       "4            1                       2          1                     1      3"
      ]
     },
     "execution_count": 19,
     "metadata": {},
     "output_type": "execute_result"
    }
   ],
   "source": [
    "df=pd.read_csv('E:\\Downloads\\lenses.csv', index_col = False, names = ['Patient_age','Spectacle_prescription','Asigmatic','Tear_production_rate','Class'])\n",
    "df.head()"
   ]
  },
  {
   "cell_type": "code",
   "execution_count": 20,
   "metadata": {},
   "outputs": [
    {
     "data": {
      "text/plain": [
       "(24, 5)"
      ]
     },
     "execution_count": 20,
     "metadata": {},
     "output_type": "execute_result"
    }
   ],
   "source": [
    "df.shape"
   ]
  },
  {
   "cell_type": "code",
   "execution_count": 21,
   "metadata": {},
   "outputs": [
    {
     "data": {
      "text/html": [
       "<div>\n",
       "<style scoped>\n",
       "    .dataframe tbody tr th:only-of-type {\n",
       "        vertical-align: middle;\n",
       "    }\n",
       "\n",
       "    .dataframe tbody tr th {\n",
       "        vertical-align: top;\n",
       "    }\n",
       "\n",
       "    .dataframe thead th {\n",
       "        text-align: right;\n",
       "    }\n",
       "</style>\n",
       "<table border=\"1\" class=\"dataframe\">\n",
       "  <thead>\n",
       "    <tr style=\"text-align: right;\">\n",
       "      <th></th>\n",
       "      <th>Patient_age</th>\n",
       "      <th>Spectacle_prescription</th>\n",
       "      <th>Asigmatic</th>\n",
       "      <th>Tear_production_rate</th>\n",
       "    </tr>\n",
       "  </thead>\n",
       "  <tbody>\n",
       "    <tr>\n",
       "      <th>0</th>\n",
       "      <td>1</td>\n",
       "      <td>1</td>\n",
       "      <td>1</td>\n",
       "      <td>1</td>\n",
       "    </tr>\n",
       "    <tr>\n",
       "      <th>1</th>\n",
       "      <td>1</td>\n",
       "      <td>1</td>\n",
       "      <td>1</td>\n",
       "      <td>2</td>\n",
       "    </tr>\n",
       "    <tr>\n",
       "      <th>2</th>\n",
       "      <td>1</td>\n",
       "      <td>1</td>\n",
       "      <td>2</td>\n",
       "      <td>1</td>\n",
       "    </tr>\n",
       "    <tr>\n",
       "      <th>3</th>\n",
       "      <td>1</td>\n",
       "      <td>1</td>\n",
       "      <td>2</td>\n",
       "      <td>2</td>\n",
       "    </tr>\n",
       "    <tr>\n",
       "      <th>4</th>\n",
       "      <td>1</td>\n",
       "      <td>2</td>\n",
       "      <td>1</td>\n",
       "      <td>1</td>\n",
       "    </tr>\n",
       "  </tbody>\n",
       "</table>\n",
       "</div>"
      ],
      "text/plain": [
       "   Patient_age  Spectacle_prescription  Asigmatic  Tear_production_rate\n",
       "0            1                       1          1                     1\n",
       "1            1                       1          1                     2\n",
       "2            1                       1          2                     1\n",
       "3            1                       1          2                     2\n",
       "4            1                       2          1                     1"
      ]
     },
     "execution_count": 21,
     "metadata": {},
     "output_type": "execute_result"
    }
   ],
   "source": [
    "dataset = df.drop(['Class'],axis = 1)\n",
    "dataset.head()"
   ]
  },
  {
   "cell_type": "code",
   "execution_count": 22,
   "metadata": {},
   "outputs": [
    {
     "data": {
      "text/html": [
       "<div>\n",
       "<style scoped>\n",
       "    .dataframe tbody tr th:only-of-type {\n",
       "        vertical-align: middle;\n",
       "    }\n",
       "\n",
       "    .dataframe tbody tr th {\n",
       "        vertical-align: top;\n",
       "    }\n",
       "\n",
       "    .dataframe thead th {\n",
       "        text-align: right;\n",
       "    }\n",
       "</style>\n",
       "<table border=\"1\" class=\"dataframe\">\n",
       "  <thead>\n",
       "    <tr style=\"text-align: right;\">\n",
       "      <th></th>\n",
       "      <th>0</th>\n",
       "      <th>1</th>\n",
       "      <th>2</th>\n",
       "      <th>3</th>\n",
       "    </tr>\n",
       "  </thead>\n",
       "  <tbody>\n",
       "    <tr>\n",
       "      <th>0</th>\n",
       "      <td>-1.224745</td>\n",
       "      <td>-1.0</td>\n",
       "      <td>-1.0</td>\n",
       "      <td>-1.0</td>\n",
       "    </tr>\n",
       "    <tr>\n",
       "      <th>1</th>\n",
       "      <td>-1.224745</td>\n",
       "      <td>-1.0</td>\n",
       "      <td>-1.0</td>\n",
       "      <td>1.0</td>\n",
       "    </tr>\n",
       "    <tr>\n",
       "      <th>2</th>\n",
       "      <td>-1.224745</td>\n",
       "      <td>-1.0</td>\n",
       "      <td>1.0</td>\n",
       "      <td>-1.0</td>\n",
       "    </tr>\n",
       "    <tr>\n",
       "      <th>3</th>\n",
       "      <td>-1.224745</td>\n",
       "      <td>-1.0</td>\n",
       "      <td>1.0</td>\n",
       "      <td>1.0</td>\n",
       "    </tr>\n",
       "    <tr>\n",
       "      <th>4</th>\n",
       "      <td>-1.224745</td>\n",
       "      <td>1.0</td>\n",
       "      <td>-1.0</td>\n",
       "      <td>-1.0</td>\n",
       "    </tr>\n",
       "  </tbody>\n",
       "</table>\n",
       "</div>"
      ],
      "text/plain": [
       "          0    1    2    3\n",
       "0 -1.224745 -1.0 -1.0 -1.0\n",
       "1 -1.224745 -1.0 -1.0  1.0\n",
       "2 -1.224745 -1.0  1.0 -1.0\n",
       "3 -1.224745 -1.0  1.0  1.0\n",
       "4 -1.224745  1.0 -1.0 -1.0"
      ]
     },
     "execution_count": 22,
     "metadata": {},
     "output_type": "execute_result"
    }
   ],
   "source": [
    "from sklearn.preprocessing import StandardScaler\n",
    "\n",
    "standard = StandardScaler()\n",
    "cleanDataSet = pd.DataFrame(standard.fit_transform(dataset))\n",
    "cleanDataSet.head()"
   ]
  },
  {
   "cell_type": "code",
   "execution_count": 23,
   "metadata": {},
   "outputs": [
    {
     "name": "stdout",
     "output_type": "stream",
     "text": [
      "Requirement already satisfied: minisom in c:\\users\\aryan\\anaconda3\\lib\\site-packages (2.2.6)\n"
     ]
    }
   ],
   "source": [
    "!pip install minisom"
   ]
  },
  {
   "cell_type": "code",
   "execution_count": 24,
   "metadata": {},
   "outputs": [],
   "source": [
    "from minisom import MiniSom    \n",
    "from matplotlib.gridspec import GridSpec\n",
    "\n",
    "som = MiniSom(7, 7, 4, sigma=0.25,neighborhood_function='gaussian') \n",
    "som.train_random(cleanDataSet.to_numpy(), 30000) # trains the SOM with 100 iterations"
   ]
  },
  {
   "cell_type": "code",
   "execution_count": 25,
   "metadata": {},
   "outputs": [
    {
     "data": {
      "image/png": "[encoded data removed]",
      "text/plain": [
       "<Figure size 504x504 with 24 Axes>"
      ]
     },
     "metadata": {},
     "output_type": "display_data"
    }
   ],
   "source": [
    "target = df.Class.astype('category').cat.codes\n",
    "labels_map = som.labels_map(cleanDataSet.to_numpy(), target)\n",
    "label_names = np.unique(target)\n",
    "\n",
    "plt.figure(figsize=(7, 7))\n",
    "the_grid = GridSpec(7, 7)\n",
    "\n",
    "for position in labels_map.keys():\n",
    "    label_fracs = [labels_map[position][l] for l in label_names]\n",
    "    plt.subplot(the_grid[6-position[1], position[0]], aspect=1)\n",
    "    patches, texts = plt.pie(label_fracs)\n",
    "plt.legend(patches, label_names, bbox_to_anchor=(0, 1.5), ncol=3)\n",
    "\n",
    "plt.show()"
   ]
  },
  {
   "cell_type": "code",
   "execution_count": 26,
   "metadata": {},
   "outputs": [
    {
     "data": {
      "image/png": "[encoded data removed]",
      "text/plain": [
       "<Figure size 504x504 with 2 Axes>"
      ]
     },
     "metadata": {},
     "output_type": "display_data"
    }
   ],
   "source": [
    "plt.figure(figsize=(7, 7))\n",
    "frequencies = np.zeros((7, 7))\n",
    "for position, values in som.win_map(cleanDataSet.to_numpy()).items():\n",
    "    frequencies[position[0], position[1]] = len(values)\n",
    "plt.pcolor(frequencies, cmap='Blues')\n",
    "plt.colorbar()\n",
    "plt.show()"
   ]
  },
  {
   "cell_type": "markdown",
   "metadata": {},
   "source": [
    "# LVQ"
   ]
  },
  {
   "cell_type": "code",
   "execution_count": 22,
   "metadata": {},
   "outputs": [
    {
     "name": "stdout",
     "output_type": "stream",
     "text": [
      "Sample T belongs to class :  0\n",
      "Trained weights :  [[0.3660931, 0.38165410000000005, 1, 1], [0.33661, 0.34390000000000004, 0, 1]]\n"
     ]
    }
   ],
   "source": [
    "import math \n",
    "  \n",
    "  \n",
    "class LVQ : \n",
    "      \n",
    "    \n",
    "    def winner( self, weights, sample ) : \n",
    "          \n",
    "        D0 = 0\n",
    "        D1 = 0\n",
    "          \n",
    "        for i  in range( len( sample ) ) : \n",
    "            D0 = D0 + math.pow( ( sample[i] - weights[0][i] ), 2 ) \n",
    "            D1 = D1 + math.pow( ( sample[i] - weights[1][i] ), 2 ) \n",
    "              \n",
    "            if D0 > D1 : \n",
    "                return 0\n",
    "            else :  \n",
    "                return 1\n",
    "  \n",
    "        \n",
    "    def update( self, weights, sample, J, alpha ) : \n",
    "        for i in range(len(weights)) : \n",
    "            weights[J][i] = weights[J][i] + alpha * ( sample[i] - weights[J][i] )  \n",
    "  \n",
    "\n",
    "def main() : \n",
    "  \n",
    "    # Training Samples ( m, n ) with their class vector \n",
    "    X =  [[ 0, 0, 1, 1 ],  [ 1, 0, 0, 0 ],  \n",
    "          [ 0, 0, 0, 1 ], [ 0, 1, 1, 0 ], \n",
    "          [ 1, 1, 0, 0 ], [ 1, 1, 1, 0 ],]  \n",
    "  \n",
    "    Y = [ 0, 1, 0, 1, 1, 1 ] \n",
    "    m, n = len( X ), len( X[0] ) \n",
    "      \n",
    "   \n",
    "    weights = [] \n",
    "    weights.append( X.pop( 0 ) ) \n",
    "    weights.append( X.pop( 1 ) ) \n",
    "  \n",
    " \n",
    "    m = m - 2\n",
    "      \n",
    "    # training \n",
    "    ob = LVQ() \n",
    "    epochs = 3\n",
    "    alpha = 0.1\n",
    "      \n",
    "    for i in range( epochs ) : \n",
    "        for j in range( m ) : \n",
    "              \n",
    "            # Sample selection \n",
    "            T = X[j] \n",
    "              \n",
    "            # Compute winner \n",
    "            J = ob.winner( weights, T ) \n",
    "          \n",
    "            # Update weights \n",
    "            ob.update( weights, T, J, alpha ) \n",
    "              \n",
    "    # classify new input sample \n",
    "    T = [ 0, 0, 1, 0 ] \n",
    "    J = ob.winner( weights, T ) \n",
    "    print( \"Sample T belongs to class : \", J ) \n",
    "    print( \"Trained weights : \", weights ) \n",
    "      \n",
    "if __name__ == \"__main__\": \n",
    "    main() "
   ]
  },
  {
   "cell_type": "code",
   "execution_count": null,
   "metadata": {},
   "outputs": [],
   "source": []
  }
 ],
 "metadata": {
  "kernelspec": {
   "display_name": "Python 3",
   "language": "python",
   "name": "python3"
  },
  "language_info": {
   "codemirror_mode": {
    "name": "ipython",
    "version": 3
   },
   "file_extension": ".py",
   "mimetype": "text/x-python",
   "name": "python",
   "nbconvert_exporter": "python",
   "pygments_lexer": "ipython3",
   "version": "3.7.3"
  }
 },
 "nbformat": 4,
 "nbformat_minor": 2
}
